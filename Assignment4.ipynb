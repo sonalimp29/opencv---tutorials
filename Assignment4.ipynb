{
 "cells": [
  {
   "cell_type": "code",
   "execution_count": null,
   "metadata": {},
   "outputs": [],
   "source": [
    "1."
   ]
  },
  {
   "cell_type": "code",
   "execution_count": null,
   "metadata": {},
   "outputs": [],
   "source": [
    "Open Source Computer Vision Library (OpenCV) supports computer vision applications and enhances the use of machine perception.\n",
    "Hence, businesses can easily use and customize the code. \n",
    "OpenCV also helps you execute tasks such as object detection, real-time face recognition, and video capturing."
   ]
  },
  {
   "cell_type": "code",
   "execution_count": null,
   "metadata": {},
   "outputs": [],
   "source": [
    "2."
   ]
  },
  {
   "cell_type": "code",
   "execution_count": null,
   "metadata": {},
   "outputs": [],
   "source": [
    "Image Processing is a field of knowledge that falls in Computer Vision.\n",
    "The premises of machine learning were first laid down by computer vision theory, applying a whole set of techniques to process\n",
    "and analyze imagery data to extract valuable information that computers and machines may use for a wide range of applications, such as:\n",
    "\n",
    "Stitching: Turning overlapping photos into a seamless panorama.\n",
    "    \n",
    "Morphing: Changing or merging through a smooth transition different pictures to create a new one.\n",
    "\n",
    "3D Modeling: Converting 2D snapshots into a 3D composition.\n",
    "\n",
    "Face detection: Identifying human faces in digital images\n",
    "\n",
    "Visual Authentication: Automatically logging your family members onto a computer or a mobile while sitting in front of a webcam"
   ]
  },
  {
   "cell_type": "code",
   "execution_count": null,
   "metadata": {},
   "outputs": [],
   "source": [
    "3."
   ]
  },
  {
   "cell_type": "code",
   "execution_count": null,
   "metadata": {},
   "outputs": [],
   "source": [
    "Type of filters:\n",
    "we can classify the filters in to 2 type .\n",
    "\n",
    "Linear filter\n",
    "Non linear filter\n",
    "Linear filter:\n",
    "The convolution of matrix pixels and kernel matrix to reduce intensity of image, that is blurring the image.\n",
    "\n",
    "There are 3 types of linear filter\n",
    "\n",
    "Box filter\n",
    "Gauss filter\n",
    "Laplace filter or Mexican hat filter\n",
    "Non Linear Filter:\n",
    "Using some non linear function from the source pixel value. The idea is to replace the target pixel value with its neighbor pixels value from some ordering mechanism or function.\n",
    "\n",
    "There are many types of Non Linear Filter.\n",
    "Minimum Filter\n",
    "Maximum Filter\n",
    "Median Filter\n"
   ]
  },
  {
   "cell_type": "code",
   "execution_count": null,
   "metadata": {},
   "outputs": [],
   "source": [
    "4."
   ]
  },
  {
   "cell_type": "code",
   "execution_count": null,
   "metadata": {},
   "outputs": [],
   "source": []
  }
 ],
 "metadata": {
  "kernelspec": {
   "display_name": "Python 3",
   "language": "python",
   "name": "python3"
  },
  "language_info": {
   "codemirror_mode": {
    "name": "ipython",
    "version": 3
   },
   "file_extension": ".py",
   "mimetype": "text/x-python",
   "name": "python",
   "nbconvert_exporter": "python",
   "pygments_lexer": "ipython3",
   "version": "3.7.4"
  }
 },
 "nbformat": 4,
 "nbformat_minor": 2
}
