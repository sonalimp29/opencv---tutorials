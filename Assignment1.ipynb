{
 "cells": [
  {
   "cell_type": "code",
   "execution_count": null,
   "metadata": {},
   "outputs": [],
   "source": [
    "1."
   ]
  },
  {
   "cell_type": "code",
   "execution_count": null,
   "metadata": {},
   "outputs": [],
   "source": [
    "The Canny edge detector is an edge detection operator that uses a multi-stage algorithm to detect a wide range of edges in images. \n",
    "It was developed by John F. Canny in 1986.\n",
    "Canny also produced a computational theory of edge detection explaining why the technique works.\n",
    "The Canny edge detection algorithm is composed of 5 steps:\n",
    "Noise reduction;\n",
    "Gradient calculation;\n",
    "Non-maximum suppression;\n",
    "Double threshold;\n",
    "Edge Tracking by Hysteresis."
   ]
  },
  {
   "cell_type": "code",
   "execution_count": null,
   "metadata": {},
   "outputs": [],
   "source": [
    "2."
   ]
  },
  {
   "cell_type": "code",
   "execution_count": null,
   "metadata": {},
   "outputs": [],
   "source": [
    "3."
   ]
  },
  {
   "cell_type": "code",
   "execution_count": null,
   "metadata": {},
   "outputs": [],
   "source": [
    "A colormap is a mapping from 0-255 values to 256 colors.\n",
    "In OpenCV, we need to create an 8-bit color image of size 256 x 1 to store the 256 color values. \n",
    "Map the colors using a lookup table : \n",
    "    In OpenCV you can apply a colormap stored in a 256 x 1 color image to an image using a lookup table LUT."
   ]
  },
  {
   "cell_type": "code",
   "execution_count": null,
   "metadata": {},
   "outputs": [],
   "source": [
    "4."
   ]
  },
  {
   "cell_type": "code",
   "execution_count": 2,
   "metadata": {},
   "outputs": [],
   "source": [
    "import cv2\n",
    "image = cv2.imread(filename = r\"pic1.jpg\", flags = 1)"
   ]
  },
  {
   "cell_type": "code",
   "execution_count": 5,
   "metadata": {},
   "outputs": [
    {
     "name": "stdout",
     "output_type": "stream",
     "text": [
      "(424, 600, 3)\n"
     ]
    }
   ],
   "source": [
    "print(image.shape)"
   ]
  },
  {
   "cell_type": "code",
   "execution_count": 8,
   "metadata": {},
   "outputs": [],
   "source": [
    "image_rect = cv2.rectangle(img= image, pt1=(100,100), pt2=(200,300), color=(255,255,0), thickness=2)"
   ]
  },
  {
   "cell_type": "code",
   "execution_count": null,
   "metadata": {},
   "outputs": [],
   "source": [
    "cv2.imshow('output_image',image_rect)\n",
    "cv2.waitKey(0)\n",
    "cv2.destroyAllWindows()"
   ]
  },
  {
   "cell_type": "code",
   "execution_count": null,
   "metadata": {},
   "outputs": [],
   "source": [
    "5."
   ]
  },
  {
   "cell_type": "code",
   "execution_count": null,
   "metadata": {},
   "outputs": [],
   "source": [
    "Filters generally use many pixel for computing each new pixel value but point operations can use one pixel to perform an image processing. \n",
    "The filters can use for blurred or fuzzy the local intensity of image to make it smooth.\n",
    "The idea is to replace every pixel by the average of its neighbor pixels.\n",
    "\n",
    "Type of filters:\n",
    "we can classify the filters in to 2 type .\n",
    "\n",
    "Linear filter\n",
    "Non linear filter\n",
    "Linear filter:\n",
    "The convolution of matrix pixels and kernel matrix to reduce intensity of image, that is blurring the image.\n",
    "\n",
    "There are 3 types of linear filter\n",
    "\n",
    "Box filter\n",
    "Gauss filter\n",
    "Laplace filter or Mexican hat filter\n",
    "Non Linear Filter:\n",
    "Using some non linear function from the source pixel value.\n",
    "The idea is to replace the target pixel value with its neighbor pixels value from some ordering mechanism or function.\n",
    "\n",
    "There are many types of Non Linear Filter as follow:\n",
    "Minimum Filter\n",
    "Maximum Filter\n",
    "Median Filter\n"
   ]
  }
 ],
 "metadata": {
  "kernelspec": {
   "display_name": "Python 3",
   "language": "python",
   "name": "python3"
  },
  "language_info": {
   "codemirror_mode": {
    "name": "ipython",
    "version": 3
   },
   "file_extension": ".py",
   "mimetype": "text/x-python",
   "name": "python",
   "nbconvert_exporter": "python",
   "pygments_lexer": "ipython3",
   "version": "3.7.4"
  }
 },
 "nbformat": 4,
 "nbformat_minor": 2
}
