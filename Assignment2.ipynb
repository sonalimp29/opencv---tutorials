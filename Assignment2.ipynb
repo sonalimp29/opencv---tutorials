{
 "cells": [
  {
   "cell_type": "code",
   "execution_count": null,
   "metadata": {},
   "outputs": [],
   "source": [
    "1."
   ]
  },
  {
   "cell_type": "code",
   "execution_count": null,
   "metadata": {},
   "outputs": [],
   "source": [
    "In Python and OpenCV, you can read (load) and write (save) image files with cv2. imread() and cv2. imwrite() . \n",
    "Images are read as NumPy array ndarray ."
   ]
  },
  {
   "cell_type": "code",
   "execution_count": null,
   "metadata": {},
   "outputs": [],
   "source": [
    "2."
   ]
  },
  {
   "cell_type": "code",
   "execution_count": null,
   "metadata": {},
   "outputs": [],
   "source": [
    "Object Detection\n",
    "Object Detection is a computer technology related to computer vision, image processing,\n",
    "and deep learning that deals with detecting instances of objects in images and videos.\n",
    "\n",
    "Haar Cascade classifiers are an effective way for object detection. \n",
    "This method was proposed by Paul Viola and Michael Jones in their paper Rapid Object Detection using a Boosted Cascade of Simple Features.\n",
    "Haar Cascade is a machine learning-based approach where a lot of positive and negative images are used to train the classifier.\n",
    "\n",
    "Positive images – These images contain the images which we want our classifier to identify.\n",
    "Negative Images – Images of everything else, which do not contain the object we want to detect.\n",
    "Requirements."
   ]
  },
  {
   "cell_type": "code",
   "execution_count": null,
   "metadata": {},
   "outputs": [],
   "source": [
    "3."
   ]
  },
  {
   "cell_type": "code",
   "execution_count": null,
   "metadata": {},
   "outputs": [],
   "source": [
    "Box Filter is a low-pass filter that smooths the image by making each output pixel the average of the surrounding ones,\n",
    "removing details, noise and and edges from images."
   ]
  },
  {
   "cell_type": "code",
   "execution_count": null,
   "metadata": {},
   "outputs": [],
   "source": [
    "4."
   ]
  },
  {
   "cell_type": "code",
   "execution_count": null,
   "metadata": {},
   "outputs": [],
   "source": [
    "Thresholding is a technique in OpenCV, which is the assignment of pixel values in relation to the threshold value provided. \n",
    "In thresholding, each pixel value is compared with the threshold value. \n",
    "If the pixel value is smaller than the threshold, it is set to 0, otherwise, it is set to a maximum value (generally 255)."
   ]
  },
  {
   "cell_type": "code",
   "execution_count": null,
   "metadata": {},
   "outputs": [],
   "source": [
    "5."
   ]
  },
  {
   "cell_type": "code",
   "execution_count": null,
   "metadata": {},
   "outputs": [],
   "source": [
    "OpenCV does not provide the same ease of use when compared to MATLAB. OpenCV has a flann library of its own. \n",
    "This causes conflict issues when you try to use OpenCV library with the PCL library."
   ]
  }
 ],
 "metadata": {
  "kernelspec": {
   "display_name": "Python 3",
   "language": "python",
   "name": "python3"
  },
  "language_info": {
   "codemirror_mode": {
    "name": "ipython",
    "version": 3
   },
   "file_extension": ".py",
   "mimetype": "text/x-python",
   "name": "python",
   "nbconvert_exporter": "python",
   "pygments_lexer": "ipython3",
   "version": "3.7.4"
  }
 },
 "nbformat": 4,
 "nbformat_minor": 2
}
